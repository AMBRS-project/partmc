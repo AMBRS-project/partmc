{
 "cells": [
  {
   "cell_type": "code",
   "execution_count": 2,
   "metadata": {
    "collapsed": false
   },
   "outputs": [],
   "source": [
    "%matplotlib inline\n",
    "import numpy as np\n",
    "import pandas as pd\n",
    "import matplotlib.pyplot as plt\n",
    "import scipy.optimize, scipy.stats"
   ]
  },
  {
   "cell_type": "markdown",
   "metadata": {},
   "source": [
    "# Two Gaussians (current scheme)"
   ]
  },
  {
   "cell_type": "code",
   "execution_count": 3,
   "metadata": {
    "collapsed": false
   },
   "outputs": [
    {
     "name": "stdout",
     "output_type": "stream",
     "text": [
      "w1 mean = 0.861387, std = 0.140431\n",
      "w2 mean = 0.138579, std = 0.140344\n"
     ]
    },
    {
     "data": {
      "text/plain": [
       "<Container object of 20 artists>"
      ]
     },
     "execution_count": 3,
     "metadata": {},
     "output_type": "execute_result"
    },
    {
     "data": {
      "image/png": "[encoded data removed]",
      "text/plain": [
       "<matplotlib.figure.Figure at 0x104f1e550>"
      ]
     },
     "metadata": {},
     "output_type": "display_data"
    }
   ],
   "source": [
    "m1 = 0.89\n",
    "m2 = 1 - m1\n",
    "s1 = 0.24\n",
    "s2 = s1\n",
    "n = 1000000\n",
    "x1 = np.maximum(0, np.random.normal(m1, s1, n))\n",
    "x2 = np.maximum(0, np.random.normal(m2, s2, n))\n",
    "total = x1 + x2 + 1e-50\n",
    "w1 = x1 / total\n",
    "w2 = x2 / total\n",
    "print(\"w1 mean = %g, std = %g\" % (np.mean(w1), np.std(w1)))\n",
    "print(\"w2 mean = %g, std = %g\" % (np.mean(w2), np.std(w2)))\n",
    "bins = np.linspace(0, 1, 21)\n",
    "h1, bins = np.histogram(w1, bins)\n",
    "plt.bar(left=bins[:-1], height=h1, width=(bins[1:] - bins[:-1]))"
   ]
  },
  {
   "cell_type": "markdown",
   "metadata": {},
   "source": [
    "# Symmetric log-normals"
   ]
  },
  {
   "cell_type": "code",
   "execution_count": 4,
   "metadata": {
    "collapsed": false
   },
   "outputs": [
    {
     "name": "stdout",
     "output_type": "stream",
     "text": [
      "w1 mean = 0.860114, std = 0.142282\n",
      "w2 mean = 0.139886, std = 0.142282\n"
     ]
    },
    {
     "data": {
      "text/plain": [
       "<Container object of 20 artists>"
      ]
     },
     "execution_count": 4,
     "metadata": {},
     "output_type": "execute_result"
    },
    {
     "data": {
      "image/png": "[encoded data removed]",
      "text/plain": [
       "<matplotlib.figure.Figure at 0x109b14c90>"
      ]
     },
     "metadata": {},
     "output_type": "display_data"
    }
   ],
   "source": [
    "m1 = 0.91\n",
    "m2 = 1 - m1\n",
    "s1 = 0.9\n",
    "s2 = s1\n",
    "n = 1000000\n",
    "x1 = np.maximum(0, np.random.lognormal(np.log(m1), s1, n))\n",
    "x2 = np.maximum(0, np.random.lognormal(np.log(m2), s2, n))\n",
    "total = x1 + x2 + 1e-50\n",
    "w1 = x1 / total\n",
    "w2 = x2 / total\n",
    "print(\"w1 mean = %g, std = %g\" % (np.mean(w1), np.std(w1)))\n",
    "print(\"w2 mean = %g, std = %g\" % (np.mean(w2), np.std(w2)))\n",
    "bins = np.linspace(0, 1, 21)\n",
    "h1, bins = np.histogram(w1, bins)\n",
    "plt.bar(left=bins[:-1], height=h1, width=(bins[1:] - bins[:-1]))"
   ]
  },
  {
   "cell_type": "markdown",
   "metadata": {},
   "source": [
    "# Different log-normals"
   ]
  },
  {
   "cell_type": "code",
   "execution_count": 5,
   "metadata": {
    "collapsed": false
   },
   "outputs": [
    {
     "name": "stdout",
     "output_type": "stream",
     "text": [
      "w1 mean = 0.858299, std = 0.145991\n",
      "w2 mean = 0.141701, std = 0.145991\n"
     ]
    },
    {
     "data": {
      "text/plain": [
       "<Container object of 20 artists>"
      ]
     },
     "execution_count": 5,
     "metadata": {},
     "output_type": "execute_result"
    },
    {
     "data": {
      "image/png": "[encoded data removed]",
      "text/plain": [
       "<matplotlib.figure.Figure at 0x1057d2f90>"
      ]
     },
     "metadata": {},
     "output_type": "display_data"
    }
   ],
   "source": [
    "m1 = 0.91\n",
    "m2 = 1 - m1\n",
    "s1 = 0.1\n",
    "s2 = 1.3\n",
    "n = 1000000\n",
    "x1 = np.maximum(0, np.random.lognormal(np.log(m1), s1, n))\n",
    "x2 = np.maximum(0, np.random.lognormal(np.log(m2), s2, n))\n",
    "total = x1 + x2 + 1e-50\n",
    "w1 = x1 / total\n",
    "w2 = x2 / total\n",
    "print(\"w1 mean = %g, std = %g\" % (np.mean(w1), np.std(w1)))\n",
    "print(\"w2 mean = %g, std = %g\" % (np.mean(w2), np.std(w2)))\n",
    "bins = np.linspace(0, 1, 21)\n",
    "h1, bins = np.histogram(w1, bins)\n",
    "plt.bar(left=bins[:-1], height=h1, width=(bins[1:] - bins[:-1]))"
   ]
  },
  {
   "cell_type": "markdown",
   "metadata": {},
   "source": [
    "# Symmetric gamma distributions"
   ]
  },
  {
   "cell_type": "code",
   "execution_count": 6,
   "metadata": {
    "collapsed": false
   },
   "outputs": [
    {
     "name": "stdout",
     "output_type": "stream",
     "text": [
      "w1 mean = 0.862008, std = 0.139845\n",
      "w2 mean = 0.137992, std = 0.139845\n"
     ]
    },
    {
     "data": {
      "text/plain": [
       "<Container object of 20 artists>"
      ]
     },
     "execution_count": 6,
     "metadata": {},
     "output_type": "execute_result"
    },
    {
     "data": {
      "image/png": "[encoded data removed]",
      "text/plain": [
       "<matplotlib.figure.Figure at 0x10ce1d650>"
      ]
     },
     "metadata": {},
     "output_type": "display_data"
    }
   ],
   "source": [
    "m1 = 0.84\n",
    "m2 = 1 - m1\n",
    "s1 = 0.21\n",
    "s2 = s1\n",
    "shape1 = m1**2 / s1**2\n",
    "shape2 = m2**2 / s2**2\n",
    "scale1 = s1**2 / m1\n",
    "scale2 = s2**2 / m2\n",
    "n = 1000000\n",
    "x1 = np.maximum(0, np.random.gamma(shape1, scale1, n))\n",
    "x2 = np.maximum(0, np.random.gamma(shape2, scale2, n))\n",
    "total = x1 + x2 + 1e-50\n",
    "w1 = x1 / total\n",
    "w2 = x2 / total\n",
    "print(\"w1 mean = %g, std = %g\" % (np.mean(w1), np.std(w1)))\n",
    "print(\"w2 mean = %g, std = %g\" % (np.mean(w2), np.std(w2)))\n",
    "bins = np.linspace(0, 1, 21)\n",
    "h1, bins = np.histogram(w1, bins)\n",
    "plt.bar(left=bins[:-1], height=h1, width=(bins[1:] - bins[:-1]))"
   ]
  },
  {
   "cell_type": "markdown",
   "metadata": {},
   "source": [
    "# Different gamma distributions"
   ]
  },
  {
   "cell_type": "code",
   "execution_count": 7,
   "metadata": {
    "collapsed": false
   },
   "outputs": [
    {
     "name": "stdout",
     "output_type": "stream",
     "text": [
      "w1 mean = 0.861779, std = 0.140527\n",
      "w2 mean = 0.138221, std = 0.140527\n"
     ]
    },
    {
     "data": {
      "text/plain": [
       "<Container object of 20 artists>"
      ]
     },
     "execution_count": 7,
     "metadata": {},
     "output_type": "execute_result"
    },
    {
     "data": {
      "image/png": "[encoded data removed]",
      "text/plain": [
       "<matplotlib.figure.Figure at 0x10cdf4a90>"
      ]
     },
     "metadata": {},
     "output_type": "display_data"
    }
   ],
   "source": [
    "m1 = 0.93\n",
    "m2 = 1 - m1\n",
    "s1 = 0.8\n",
    "s2 = 0.01\n",
    "shape1 = m1**2 / s1**2\n",
    "shape2 = m2**2 / s2**2\n",
    "scale1 = s1**2 / m1\n",
    "scale2 = s2**2 / m2\n",
    "n = 1000000\n",
    "x1 = np.maximum(0, np.random.gamma(shape1, scale1, n))\n",
    "x2 = np.maximum(0, np.random.gamma(shape2, scale2, n))\n",
    "total = x1 + x2 + 1e-50\n",
    "w1 = x1 / total\n",
    "w2 = x2 / total\n",
    "print(\"w1 mean = %g, std = %g\" % (np.mean(w1), np.std(w1)))\n",
    "print(\"w2 mean = %g, std = %g\" % (np.mean(w2), np.std(w2)))\n",
    "bins = np.linspace(0, 1, 21)\n",
    "h1, bins = np.histogram(w1, bins)\n",
    "plt.bar(left=bins[:-1], height=h1, width=(bins[1:] - bins[:-1]))"
   ]
  },
  {
   "cell_type": "markdown",
   "metadata": {},
   "source": [
    "# Beta distribution"
   ]
  },
  {
   "cell_type": "code",
   "execution_count": 8,
   "metadata": {
    "collapsed": false
   },
   "outputs": [
    {
     "name": "stdout",
     "output_type": "stream",
     "text": [
      "w1 mean = 0.859689, std = 0.140293\n",
      "w2 mean = 0.140311, std = 0.140293\n"
     ]
    },
    {
     "data": {
      "text/plain": [
       "<Container object of 20 artists>"
      ]
     },
     "execution_count": 8,
     "metadata": {},
     "output_type": "execute_result"
    },
    {
     "data": {
      "image/png": "[encoded data removed]",
      "text/plain": [
       "<matplotlib.figure.Figure at 0x10da5d9d0>"
      ]
     },
     "metadata": {},
     "output_type": "display_data"
    }
   ],
   "source": [
    "m1 = 0.86\n",
    "s1 = 0.14\n",
    "alpha1 = m1 * (m1 * (1 - m1) / s1**2 - 1)\n",
    "beta1 = (1 - m1) * (m1 * (1 - m1) / s1**2 - 1)\n",
    "n = 1000000\n",
    "w1 = np.random.beta(alpha1, beta1, n)\n",
    "w2 = 1 - w1\n",
    "print(\"w1 mean = %g, std = %g\" % (np.mean(w1), np.std(w1)))\n",
    "print(\"w2 mean = %g, std = %g\" % (np.mean(w2), np.std(w2)))\n",
    "bins = np.linspace(0, 1, 21)\n",
    "h1, bins = np.histogram(w1, bins)\n",
    "plt.bar(left=bins[:-1], height=h1, width=(bins[1:] - bins[:-1]))"
   ]
  },
  {
   "cell_type": "markdown",
   "metadata": {},
   "source": [
    "# Positive Gaussians"
   ]
  },
  {
   "cell_type": "code",
   "execution_count": 9,
   "metadata": {
    "collapsed": false
   },
   "outputs": [
    {
     "name": "stdout",
     "output_type": "stream",
     "text": [
      "w1 mean = 0.86724, std = 0.090096\n",
      "w2 mean = 0.13276, std = 0.090096\n"
     ]
    },
    {
     "data": {
      "text/plain": [
       "<Container object of 20 artists>"
      ]
     },
     "execution_count": 9,
     "metadata": {},
     "output_type": "execute_result"
    },
    {
     "data": {
      "image/png": "[encoded data removed]",
      "text/plain": [
       "<matplotlib.figure.Figure at 0x10d8c6dd0>"
      ]
     },
     "metadata": {},
     "output_type": "display_data"
    }
   ],
   "source": [
    "def positive_normal(m, s, n):\n",
    "    v = np.zeros(n)\n",
    "    for i in range(len(v)):\n",
    "        v[i] = np.random.normal(m, s)\n",
    "        while v[i] <= 0:\n",
    "            v[i] = np.random.normal(m, s)\n",
    "    return v\n",
    "m1 = 1\n",
    "m2 = 1 - m1\n",
    "s1 = 0.2\n",
    "s2 = s1\n",
    "n = 1000000\n",
    "x1 = np.maximum(0, positive_normal(m1, s1, n))\n",
    "x2 = np.maximum(0, positive_normal(m2, s2, n))\n",
    "total = x1 + x2 + 1e-50\n",
    "w1 = x1 / total\n",
    "w2 = x2 / total\n",
    "print(\"w1 mean = %g, std = %g\" % (np.mean(w1), np.std(w1)))\n",
    "print(\"w2 mean = %g, std = %g\" % (np.mean(w2), np.std(w2)))\n",
    "bins = np.linspace(0, 1, 21)\n",
    "h1, bins = np.histogram(w1, bins)\n",
    "plt.bar(left=bins[:-1], height=h1, width=(bins[1:] - bins[:-1]))"
   ]
  },
  {
   "cell_type": "markdown",
   "metadata": {},
   "source": [
    "# One-sided Gaussians"
   ]
  },
  {
   "cell_type": "code",
   "execution_count": 10,
   "metadata": {
    "collapsed": false
   },
   "outputs": [
    {
     "name": "stdout",
     "output_type": "stream",
     "text": [
      "w1 mean = 0.878742, std = 0.0799957\n",
      "w2 mean = 0.121258, std = 0.0799957\n"
     ]
    },
    {
     "data": {
      "text/plain": [
       "<Container object of 20 artists>"
      ]
     },
     "execution_count": 10,
     "metadata": {},
     "output_type": "execute_result"
    },
    {
     "data": {
      "image/png": "[encoded data removed]",
      "text/plain": [
       "<matplotlib.figure.Figure at 0x10d7e2190>"
      ]
     },
     "metadata": {},
     "output_type": "display_data"
    }
   ],
   "source": [
    "m1 = 1\n",
    "m2 = 1 - m1\n",
    "s1 = 0.1\n",
    "s2 = 0.2\n",
    "n = 1000000\n",
    "x1 = np.maximum(0, m1 + s1 * np.abs(np.random.normal(0, 1, n)))\n",
    "x2 = np.maximum(0, m2 + s2 * np.abs(np.random.normal(0, 1, n)))\n",
    "total = x1 + x2 + 1e-50\n",
    "w1 = x1 / total\n",
    "w2 = x2 / total\n",
    "print(\"w1 mean = %g, std = %g\" % (np.mean(w1), np.std(w1)))\n",
    "print(\"w2 mean = %g, std = %g\" % (np.mean(w2), np.std(w2)))\n",
    "bins = np.linspace(0, 1, 21)\n",
    "h1, bins = np.histogram(w1, bins)\n",
    "plt.bar(left=bins[:-1], height=h1, width=(bins[1:] - bins[:-1]))"
   ]
  },
  {
   "cell_type": "markdown",
   "metadata": {},
   "source": [
    "# Single Gaussian"
   ]
  },
  {
   "cell_type": "code",
   "execution_count": 11,
   "metadata": {
    "collapsed": false
   },
   "outputs": [
    {
     "name": "stdout",
     "output_type": "stream",
     "text": [
      "w1 mean = 0.819907, std = 0.111105\n",
      "w2 mean = 0.180093, std = 0.111105\n"
     ]
    },
    {
     "data": {
      "text/plain": [
       "<Container object of 20 artists>"
      ]
     },
     "execution_count": 11,
     "metadata": {},
     "output_type": "execute_result"
    },
    {
     "data": {
      "image/png": "[encoded data removed]",
      "text/plain": [
       "<matplotlib.figure.Figure at 0x10cdac5d0>"
      ]
     },
     "metadata": {},
     "output_type": "display_data"
    }
   ],
   "source": [
    "def zero_one_normal(m, s, n):\n",
    "    v = np.zeros(n)\n",
    "    for i in range(len(v)):\n",
    "        v[i] = np.random.normal(m, s)\n",
    "        while v[i] <= 0 or v[i] >= 1:\n",
    "            v[i] = np.random.normal(m, s)\n",
    "    return v\n",
    "m1 = 0.86\n",
    "s1 = 0.14\n",
    "n = 1000000\n",
    "w1 = zero_one_normal(m1, s1, n)\n",
    "w2 = 1 - w1\n",
    "print(\"w1 mean = %g, std = %g\" % (np.mean(w1), np.std(w1)))\n",
    "print(\"w2 mean = %g, std = %g\" % (np.mean(w2), np.std(w2)))\n",
    "bins = np.linspace(0, 1, 21)\n",
    "h1, bins = np.histogram(w1, bins)\n",
    "plt.bar(left=bins[:-1], height=h1, width=(bins[1:] - bins[:-1]))"
   ]
  },
  {
   "cell_type": "markdown",
   "metadata": {},
   "source": [
    "# Uniform"
   ]
  },
  {
   "cell_type": "code",
   "execution_count": 12,
   "metadata": {
    "collapsed": false
   },
   "outputs": [
    {
     "name": "stdout",
     "output_type": "stream",
     "text": [
      "w1 mean = 0.82601, std = 0.0884294\n",
      "w2 mean = 0.17399, std = 0.0884294\n"
     ]
    },
    {
     "data": {
      "text/plain": [
       "<Container object of 20 artists>"
      ]
     },
     "execution_count": 12,
     "metadata": {},
     "output_type": "execute_result"
    },
    {
     "data": {
      "image/png": "[encoded data removed]",
      "text/plain": [
       "<matplotlib.figure.Figure at 0x10d6f9c50>"
      ]
     },
     "metadata": {},
     "output_type": "display_data"
    }
   ],
   "source": [
    "l1 = 0.45\n",
    "h1 = 1\n",
    "l2 = 0.01\n",
    "h2 = 0.30\n",
    "n = 1000000\n",
    "x1 = np.maximum(0, np.random.uniform(l1, h1, n))\n",
    "x2 = np.maximum(0, np.random.uniform(l2, h2, n))\n",
    "total = x1 + x2 + 1e-50\n",
    "w1 = x1 / total\n",
    "w2 = x2 / total\n",
    "print(\"w1 mean = %g, std = %g\" % (np.mean(w1), np.std(w1)))\n",
    "print(\"w2 mean = %g, std = %g\" % (np.mean(w2), np.std(w2)))\n",
    "bins = np.linspace(0, 1, 21)\n",
    "h1, bins = np.histogram(w1, bins)\n",
    "plt.bar(left=bins[:-1], height=h1, width=(bins[1:] - bins[:-1]))"
   ]
  },
  {
   "cell_type": "markdown",
   "metadata": {},
   "source": [
    "# Resampled Gaussians"
   ]
  },
  {
   "cell_type": "code",
   "execution_count": 13,
   "metadata": {
    "collapsed": false
   },
   "outputs": [
    {
     "name": "stdout",
     "output_type": "stream",
     "text": [
      "w1 mean = 0.832983, std = 0.0905004\n",
      "w2 mean = 0.167017, std = 0.0905004\n"
     ]
    },
    {
     "data": {
      "text/plain": [
       "<Container object of 20 artists>"
      ]
     },
     "execution_count": 13,
     "metadata": {},
     "output_type": "execute_result"
    },
    {
     "data": {
      "image/png": "[encoded data removed]",
      "text/plain": [
       "<matplotlib.figure.Figure at 0x10e0e2790>"
      ]
     },
     "metadata": {},
     "output_type": "display_data"
    }
   ],
   "source": [
    "def gaussian_pair_resampled(m1, m2, s1, s2):\n",
    "    while True:\n",
    "        x1 = np.random.normal(m1, s1, 1)\n",
    "        x2 = np.random.normal(m2, s2, 1)\n",
    "        total = x1 + x2\n",
    "        w1 = x1 / total\n",
    "        w2 = x2 / total\n",
    "        if (w1 >= 0 and w2 >= 0 and w1 <= 1 and w2 <= 1):\n",
    "            break\n",
    "    return (w1, w2)\n",
    "m1 = 0.86\n",
    "m2 = 1 - m1\n",
    "s1 = 0.14\n",
    "s2 = s1\n",
    "n = 1000000\n",
    "w1 = np.zeros(n)\n",
    "w2 = np.zeros(n)\n",
    "for i in range (n):\n",
    "    w1[i], w2[i] = gaussian_pair_resampled(m1, m2, s1, s2)\n",
    "print(\"w1 mean = %g, std = %g\" % (np.mean(w1), np.std(w1)))\n",
    "print(\"w2 mean = %g, std = %g\" % (np.mean(w2), np.std(w2)))\n",
    "bins = np.linspace(0, 1, 21)\n",
    "h1, bins = np.histogram(w1, bins)\n",
    "plt.bar(left=bins[:-1], height=h1, width=(bins[1:] - bins[:-1]))"
   ]
  },
  {
   "cell_type": "markdown",
   "metadata": {},
   "source": [
    "# Unlimited Gaussians"
   ]
  },
  {
   "cell_type": "code",
   "execution_count": 14,
   "metadata": {
    "collapsed": false
   },
   "outputs": [
    {
     "name": "stdout",
     "output_type": "stream",
     "text": [
      "w1 mean = 0.859996, std = 0.0989993\n",
      "w2 mean = 0.140004, std = 0.0989993\n"
     ]
    },
    {
     "data": {
      "text/plain": [
       "<Container object of 20 artists>"
      ]
     },
     "execution_count": 14,
     "metadata": {},
     "output_type": "execute_result"
    },
    {
     "data": {
      "image/png": "[encoded data removed]",
      "text/plain": [
       "<matplotlib.figure.Figure at 0x10dd3e1d0>"
      ]
     },
     "metadata": {},
     "output_type": "display_data"
    }
   ],
   "source": [
    "m1 = 0.86\n",
    "m2 = 1 - m1\n",
    "s1 = 0.14\n",
    "s2 = s1\n",
    "n = 10000000\n",
    "x1 = np.random.normal(m1, s1, n)\n",
    "x2 = np.random.normal(m2, s2, n)\n",
    "gamma = (x1 + x2 - 1) / 2\n",
    "w1 = x1 - gamma\n",
    "w2 = x2 - gamma\n",
    "print(\"w1 mean = %g, std = %g\" % (np.mean(w1), np.std(w1)))\n",
    "print(\"w2 mean = %g, std = %g\" % (np.mean(w2), np.std(w2)))\n",
    "bins = np.linspace(0, 1, 21)\n",
    "h1, bins = np.histogram(w1, bins)\n",
    "plt.bar(left=bins[:-1], height=h1, width=(bins[1:] - bins[:-1]))"
   ]
  },
  {
   "cell_type": "markdown",
   "metadata": {},
   "source": [
    "# Projected Gaussians"
   ]
  },
  {
   "cell_type": "code",
   "execution_count": 97,
   "metadata": {
    "collapsed": false
   },
   "outputs": [
    {
     "name": "stdout",
     "output_type": "stream",
     "text": [
      "w1 mean = 0.819802, std = 0.11089\n",
      "w2 mean = 0.180198, std = 0.11089\n"
     ]
    },
    {
     "data": {
      "text/plain": [
       "<Container object of 80 artists>"
      ]
     },
     "execution_count": 97,
     "metadata": {},
     "output_type": "execute_result"
    },
    {
     "data": {
      "image/png": "[encoded data removed]",
      "text/plain": [
       "<matplotlib.figure.Figure at 0x131d14090>"
      ]
     },
     "metadata": {},
     "output_type": "display_data"
    }
   ],
   "source": [
    "def gaussian_pair_proj_resampled(m1, m2, s1, s2):\n",
    "    while True:\n",
    "        x1 = np.random.normal(0, s1, 1)\n",
    "        x2 = np.random.normal(0, s2, 1)\n",
    "        total = x1 + x2\n",
    "        w1 = m1 + x1 - m1 * total\n",
    "        w2 = m2 + x2 - m2 * total\n",
    "        if (w1 >= 0 and w2 >= 0 and w1 <= 1 and w2 <= 1):\n",
    "            break\n",
    "    return (w1, w2)\n",
    "m1 = 0.86\n",
    "m2 = 1 - m1\n",
    "s1 = 0.14 / np.sqrt(1 - 2 * m1 + 2 * m1*m1)\n",
    "s2 = s1\n",
    "n = 1000000\n",
    "w1 = np.zeros(n)\n",
    "w2 = np.zeros(n)\n",
    "for i in range (n):\n",
    "    w1[i], w2[i] = gaussian_pair_proj_resampled(m1, m2, s1, s2)\n",
    "print(\"w1 mean = %g, std = %g\" % (np.mean(w1), np.std(w1)))\n",
    "print(\"w2 mean = %g, std = %g\" % (np.mean(w2), np.std(w2)))\n",
    "bins = np.linspace(0, 1, 81)\n",
    "h1, bins = np.histogram(w1, bins)\n",
    "plt.bar(left=bins[:-1], height=h1, width=(bins[1:] - bins[:-1]))"
   ]
  },
  {
   "cell_type": "code",
   "execution_count": 98,
   "metadata": {
    "collapsed": false
   },
   "outputs": [
    {
     "data": {
      "text/plain": [
       "[<matplotlib.lines.Line2D at 0x13330ef50>]"
      ]
     },
     "execution_count": 98,
     "metadata": {},
     "output_type": "execute_result"
    },
    {
     "data": {
      "image/png": "[encoded data removed]",
      "text/plain": [
       "<matplotlib.figure.Figure at 0x1320985d0>"
      ]
     },
     "metadata": {},
     "output_type": "display_data"
    }
   ],
   "source": [
    "xd = (bins[1:] + bins[:-1]) / 2.0\n",
    "yd = h1\n",
    "plt.plot(xd, yd)"
   ]
  },
  {
   "cell_type": "code",
   "execution_count": 99,
   "metadata": {
    "collapsed": false
   },
   "outputs": [
    {
     "data": {
      "text/plain": [
       "[<matplotlib.lines.Line2D at 0x13342d0d0>]"
      ]
     },
     "execution_count": 99,
     "metadata": {},
     "output_type": "execute_result"
    },
    {
     "data": {
      "image/png": "[encoded data removed]",
      "text/plain": [
       "<matplotlib.figure.Figure at 0x1307f2a10>"
      ]
     },
     "metadata": {},
     "output_type": "display_data"
    }
   ],
   "source": [
    "def gauss(x, scale, mean, std):\n",
    "    z = (x - mean) / std;\n",
    "    return scale * scipy.stats.norm.pdf(z)\n",
    "x = np.linspace(0, 1, 100)\n",
    "plt.plot(x, gauss(x, 100, 0.8, 0.1))"
   ]
  },
  {
   "cell_type": "code",
   "execution_count": 100,
   "metadata": {
    "collapsed": false
   },
   "outputs": [
    {
     "data": {
      "text/plain": [
       "array([  1.06251933e+05,   8.59579805e-01,   1.39575330e-01])"
      ]
     },
     "execution_count": 100,
     "metadata": {},
     "output_type": "execute_result"
    }
   ],
   "source": [
    "(params, stds) = scipy.optimize.curve_fit(gauss, xd, yd, [4e5, 0.8, 0.1])\n",
    "params"
   ]
  },
  {
   "cell_type": "code",
   "execution_count": 101,
   "metadata": {
    "collapsed": false
   },
   "outputs": [
    {
     "name": "stdout",
     "output_type": "stream",
     "text": [
      "std dev is 0.139575\n"
     ]
    }
   ],
   "source": [
    "print(\"std dev is %f\" % params[2])"
   ]
  },
  {
   "cell_type": "code",
   "execution_count": 102,
   "metadata": {
    "collapsed": false
   },
   "outputs": [
    {
     "data": {
      "text/plain": [
       "[<matplotlib.lines.Line2D at 0x13353f150>]"
      ]
     },
     "execution_count": 102,
     "metadata": {},
     "output_type": "execute_result"
    },
    {
     "data": {
      "image/png": "[encoded data removed]",
      "text/plain": [
       "<matplotlib.figure.Figure at 0x13345c510>"
      ]
     },
     "metadata": {},
     "output_type": "display_data"
    }
   ],
   "source": [
    "plt.bar(left=bins[:-1], height=h1, width=(bins[1:] - bins[:-1]), color='w')\n",
    "plt.plot(x, gauss(x, *params), 'r-')\n",
    "plt.plot(x, gauss(x, params[0], 0.86, 0.14), 'b-')"
   ]
  },
  {
   "cell_type": "code",
   "execution_count": 103,
   "metadata": {
    "collapsed": false
   },
   "outputs": [
    {
     "data": {
      "text/plain": [
       "0.19798989873223333"
      ]
     },
     "execution_count": 103,
     "metadata": {},
     "output_type": "execute_result"
    }
   ],
   "source": [
    "0.14 * np.sqrt(2)"
   ]
  },
  {
   "cell_type": "code",
   "execution_count": 104,
   "metadata": {
    "collapsed": false
   },
   "outputs": [
    {
     "data": {
      "text/plain": [
       "0.87132083643167857"
      ]
     },
     "execution_count": 104,
     "metadata": {},
     "output_type": "execute_result"
    }
   ],
   "source": [
    "np.sqrt(1 - 2 * m1 + 2 * m1*m1)"
   ]
  },
  {
   "cell_type": "code",
   "execution_count": 105,
   "metadata": {
    "collapsed": false
   },
   "outputs": [
    {
     "data": {
      "text/plain": [
       "0.87132083643167857"
      ]
     },
     "execution_count": 105,
     "metadata": {},
     "output_type": "execute_result"
    }
   ],
   "source": [
    "np.sqrt(1 - 2 * m2 + 2 * m2*m2)"
   ]
  },
  {
   "cell_type": "code",
   "execution_count": 106,
   "metadata": {
    "collapsed": false
   },
   "outputs": [
    {
     "data": {
      "text/plain": [
       "0.16067560208171103"
      ]
     },
     "execution_count": 106,
     "metadata": {},
     "output_type": "execute_result"
    }
   ],
   "source": [
    "0.14 / np.sqrt(1 - 2 * m1 + 2 * m1*m1)"
   ]
  },
  {
   "cell_type": "code",
   "execution_count": 107,
   "metadata": {
    "collapsed": false
   },
   "outputs": [
    {
     "data": {
      "text/plain": [
       "0.16067560208171103"
      ]
     },
     "execution_count": 107,
     "metadata": {},
     "output_type": "execute_result"
    }
   ],
   "source": [
    "s1"
   ]
  },
  {
   "cell_type": "code",
   "execution_count": null,
   "metadata": {
    "collapsed": false
   },
   "outputs": [],
   "source": []
  }
 ],
 "metadata": {
  "kernelspec": {
   "display_name": "Python 3",
   "language": "python",
   "name": "python3"
  },
  "language_info": {
   "codemirror_mode": {
    "name": "ipython",
    "version": 3
   },
   "file_extension": ".py",
   "mimetype": "text/x-python",
   "name": "python",
   "nbconvert_exporter": "python",
   "pygments_lexer": "ipython3",
   "version": "3.4.3"
  }
 },
 "nbformat": 4,
 "nbformat_minor": 0
}
